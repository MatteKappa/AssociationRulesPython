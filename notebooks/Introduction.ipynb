{
 "cells": [
  {
   "cell_type": "markdown",
   "id": "ce540cc7",
   "metadata": {},
   "source": [
    "# Association Rules\n",
    "Ogni giorno un grande ammontare di dati viene generato come bene o servizi acquistati.\n",
    "Questi database di transazioni vengono chiamati\n",
    "**Market Basket Data**\n",
    "| TID | Items |\n",
    "|-----|-------|\n",
    "| T1 | Arancia, Mela |\n",
    "| T2 | Cocomero, Avocado, Mela |\n",
    "| T3 | Arancia, Cocomero, Avocado, Banana |\n",
    "| T4 | Arancia, Avocado, Banana |\n",
    "| T5 | Cocomero, Mela, Arancia |\n",
    "| T6 | Arancia, Cocomero, Mela, Avocado |\n",
    "| T7 | Fragola, Arancia |\n",
    "| T8 | Mela, Cocomero, Arancia |\n",
    "| T9 | Avocado, Mela, Pera, Arancia |\n",
    "| T10 | Banana, Mela, Cocomero |\n",
    "\n",
    "Ogni riga rappresenta una **Transazione**, cioe' un insieme di prodotti acquistati insieme.\n",
    "Ogni insieme distinto di oggetti in una transazione viene chiamato **Itemset**.\n",
    "\n",
    "Un **Itemset** puo' essere: {Cocomero, Avocado, Mela} questo e' un itemset di lunghezza 3 (three-itemset)."
   ]
  },
  {
   "cell_type": "markdown",
   "id": "7d377f82",
   "metadata": {},
   "source": [
    "{Fragola} e' un itemset di lunghezza 1 (one-itemset).\n",
    "Per identificare patterns interessanti in questi dati, si analizza la co-occorrenza degli itemset nei dati. Questo processo di analisi viene chiamato **Market Basket Analysis**. Cioe' il processo di analizzare ed identificare patterns negli itemset e' conosciuto come market basket analysis o affinity analysis."
   ]
  },
  {
   "cell_type": "markdown",
   "id": "5f84f3c1",
   "metadata": {},
   "source": [
    "Il risultato di una market basket analysis e' un insieme di regole che descrivono i patterns che esistono tra gli itemset in un market basket data. Queste regole sono chiamate **Association Rules**."
   ]
  },
  {
   "cell_type": "markdown",
   "id": "da48fd12",
   "metadata": {},
   "source": [
    "| Customer | Items Bought |\n",
    "|----------|--------------|\n",
    "| A | fruit, bread, cereal |\n",
    "| B | fruit, milk, cereal, eggs |\n",
    "| C | bread, milk, cereal, cheese |\n",
    "| D | fruit, bread, milk, cereal |\n",
    "| E | fruit, bread, milk, cheese |"
   ]
  },
  {
   "cell_type": "markdown",
   "id": "d962e751",
   "metadata": {},
   "source": [
    "{bread, cereal} -> {milk} e' un esempio di Association Rule.\n",
    "Questa regola significa che se un cliente acquista {bread, cereal}, allora comprera' anche {milk} con una certa probabilita'.\n",
    "\n",
    "L'itemset {bread, cereal} e' chiamato **antecedente** della regola ed esprime una condizione che deve essere soddisfatta perche' l'itemset {milk} venga acquistato.\n",
    "L'itemset {milk} e' chiamato **conseguente** della regola.\n",
    "Antecedente e conseguente sono **Disjoint** cioe' non hanno elementi in comune."
   ]
  },
  {
   "cell_type": "markdown",
   "id": "5bec399e",
   "metadata": {},
   "source": [
    "Le regole di associazione ci permettono di rispondere a domande come:\n",
    "- Quali prodotti dovrebbero essere mostrati insieme in negozio?\n",
    "- Quali prodotti dovrebbero essere scontati insieme in modo da aumentare le vendite?\n",
    "- Quali prodotti dovrebbero essere raccomandati al cliente come parte di una cross-selling strategy?\n",
    "\n"
   ]
  },
  {
   "cell_type": "markdown",
   "id": "43107a9e",
   "metadata": {},
   "source": [
    "NOTA BENE: Le regole di associazione si limitato ad identificare co-occorrenze tra gli itemset, ma non forniscono relazioni causali tra gli itemset."
   ]
  },
  {
   "cell_type": "markdown",
   "id": "c296bf73",
   "metadata": {},
   "source": []
  }
 ],
 "metadata": {
  "kernelspec": {
   "display_name": "AssociationRulesPython (3.12.11)",
   "language": "python",
   "name": "python3"
  },
  "language_info": {
   "name": "python",
   "version": "3.12.11"
  }
 },
 "nbformat": 4,
 "nbformat_minor": 5
}
